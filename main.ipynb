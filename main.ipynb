{
 "cells": [
  {
   "cell_type": "code",
   "execution_count": null,
   "metadata": {},
   "outputs": [],
   "source": [
    "import pandas as pd\n",
    "import numpy as np\n",
    "import csv\n",
    "import re\n",
    "data = pd.read_csv(\"amazon.csv\")\n",
    "df = data"
   ]
  },
  {
   "cell_type": "code",
   "execution_count": null,
   "metadata": {},
   "outputs": [],
   "source": [
    "data.head()"
   ]
  },
  {
   "cell_type": "code",
   "execution_count": 8,
   "metadata": {},
   "outputs": [
    {
     "name": "stdout",
     "output_type": "stream",
     "text": [
      "Number of columns: 10\n"
     ]
    },
    {
     "name": "stderr",
     "output_type": "stream",
     "text": [
      "C:\\Users\\asus\\AppData\\Local\\Temp\\ipykernel_1664\\919772061.py:16: SettingWithCopyWarning: \n",
      "A value is trying to be set on a copy of a slice from a DataFrame.\n",
      "Try using .loc[row_indexer,col_indexer] = value instead\n",
      "\n",
      "See the caveats in the documentation: https://pandas.pydata.org/pandas-docs/stable/user_guide/indexing.html#returning-a-view-versus-a-copy\n",
      "  df[\"about_product\"] = df[\"about_product\"].apply(clean_text)\n"
     ]
    }
   ],
   "source": [
    "import re\n",
    "data = pd.read_csv(\"amazon.csv\")\n",
    "df = data\n",
    "\n",
    "\n",
    "df = df[[\"product_id\", \"product_name\", \"category\", \"about_product\", \n",
    "         \"discounted_price\", \"actual_price\", \"rating\", \"rating_count\", \n",
    "         \"img_link\", \"product_link\"]]\n",
    "\n",
    "def clean_text(text):\n",
    "    if pd.isna(text):\n",
    "        return \"\"  # Handle NaN values\n",
    "    text = re.sub(r\"[^a-zA-Z0-9\\s]\", \"\", text)  \n",
    "    return text.lower().strip()\n",
    "\n",
    "df[\"about_product\"] = df[\"about_product\"].apply(clean_text)\n",
    "\n",
    "\n",
    "print(f\"Number of columns: {df.shape[1]}\")\n",
    "\n",
    "\n",
    "df.to_csv(\"cleaned_ecommerce_data.csv\", index=False)"
   ]
  },
  {
   "cell_type": "code",
   "execution_count": 9,
   "metadata": {},
   "outputs": [
    {
     "name": "stdout",
     "output_type": "stream",
     "text": [
      "Number of columns: 10\n",
      "Number of rows: 1465\n"
     ]
    }
   ],
   "source": [
    "# Print number of columns and rows\n",
    "print(f\"Number of columns: {df.shape[1]}\")\n",
    "print(f\"Number of rows: {df.shape[0]}\")\n"
   ]
  },
  {
   "cell_type": "code",
   "execution_count": null,
   "metadata": {},
   "outputs": [],
   "source": [
    "cleandata = pd.read_csv(\"cleaned_ecommerce_data.csv\")\n",
    "\n",
    "cleandata.head()\n"
   ]
  },
  {
   "cell_type": "code",
   "execution_count": 12,
   "metadata": {},
   "outputs": [
    {
     "name": "stdout",
     "output_type": "stream",
     "text": [
      "Number of columns: 10\n",
      "Number of rows: 1465\n",
      "   product_id                                       product_name  \\\n",
      "0  B07JW9H4J1  Wayona Nylon Braided USB to Lightning Fast Cha...   \n",
      "1  B098NS6PVG  Ambrane Unbreakable 60W / 3A Fast Charging 1.5...   \n",
      "2  B096MSW6CT  Sounce Fast Phone Charging Cable & Data Sync U...   \n",
      "3  B08HDJ86NZ  boAt Deuce USB 300 2 in 1 Type-C & Micro USB S...   \n",
      "4  B08CF3B7N1  Portronics Konnect L 1.2M Fast Charging 3A 8 P...   \n",
      "\n",
      "                                            category  \\\n",
      "0  Computers&Accessories|Accessories&Peripherals|...   \n",
      "1  Computers&Accessories|Accessories&Peripherals|...   \n",
      "2  Computers&Accessories|Accessories&Peripherals|...   \n",
      "3  Computers&Accessories|Accessories&Peripherals|...   \n",
      "4  Computers&Accessories|Accessories&Peripherals|...   \n",
      "\n",
      "                                       about_product  discounted_price  \\\n",
      "0  high compatibility  compatible with iphone 12 ...             399.0   \n",
      "1  compatible with all type c enabled devices be ...             199.0   \n",
      "2  fast charger data syncwith builtin safety proc...             199.0   \n",
      "3  the boat deuce usb 300 2 in 1 cable is compati...             329.0   \n",
      "4  charge  sync function this cable comes with ch...             154.0   \n",
      "\n",
      "   actual_price  rating  rating_count  \\\n",
      "0        1099.0     4.2       24269.0   \n",
      "1         349.0     4.0       43994.0   \n",
      "2        1899.0     3.9        7928.0   \n",
      "3         699.0     4.2       94363.0   \n",
      "4         399.0     4.2       16905.0   \n",
      "\n",
      "                                            img_link  \\\n",
      "0  https://m.media-amazon.com/images/W/WEBP_40237...   \n",
      "1  https://m.media-amazon.com/images/W/WEBP_40237...   \n",
      "2  https://m.media-amazon.com/images/W/WEBP_40237...   \n",
      "3  https://m.media-amazon.com/images/I/41V5FtEWPk...   \n",
      "4  https://m.media-amazon.com/images/W/WEBP_40237...   \n",
      "\n",
      "                                        product_link  \n",
      "0  https://www.amazon.in/Wayona-Braided-WN3LG1-Sy...  \n",
      "1  https://www.amazon.in/Ambrane-Unbreakable-Char...  \n",
      "2  https://www.amazon.in/Sounce-iPhone-Charging-C...  \n",
      "3  https://www.amazon.in/Deuce-300-Resistant-Tang...  \n",
      "4  https://www.amazon.in/Portronics-Konnect-POR-1...  \n"
     ]
    }
   ],
   "source": [
    "\n",
    "import pandas as pd\n",
    "import re\n",
    "\n",
    "# Load dataset\n",
    "df = pd.read_csv(\"cleaned_ecommerce_data.csv\")\n",
    "\n",
    "### 1. Remove ₹ symbol & convert prices to numeric ###\n",
    "df[\"discounted_price\"] = df[\"discounted_price\"].replace(r\"₹\", \"\", regex=True).str.replace(\",\", \"\").astype(float)\n",
    "df[\"actual_price\"] = df[\"actual_price\"].replace(r\"₹\", \"\", regex=True).str.replace(\",\", \"\").astype(float)\n",
    "\n",
    "### 2. Clean 'about_product' column ###\n",
    "def clean_text(text):\n",
    "    if pd.isna(text):\n",
    "        return \"\"  # Handle NaN values\n",
    "    text = re.sub(r\"[^a-zA-Z0-9\\s]\", \"\", text)  # Remove special characters\n",
    "    return text.lower().strip()\n",
    "\n",
    "df[\"about_product\"] = df[\"about_product\"].astype(str).apply(clean_text)\n",
    "\n",
    "### 3. Fill missing values ###\n",
    "df[\"rating\"] = pd.to_numeric(df[\"rating\"], errors=\"coerce\").fillna(0)  # Convert ratings to float & fill NaN with 0\n",
    "df[\"rating_count\"] = pd.to_numeric(df[\"rating_count\"].astype(str).str.replace(\",\", \"\"), errors=\"coerce\").fillna(0)  # Handle rating counts\n",
    "\n",
    "### 4. Drop duplicates (if any) ###\n",
    "df.drop_duplicates(inplace=True)\n",
    "\n",
    "### 5. Drop rows with critical missing data ###\n",
    "df.dropna(subset=[\"product_id\", \"product_name\", \"about_product\"], inplace=True)\n",
    "\n",
    "### 6. Save cleaned dataset ###\n",
    "df.to_csv(\"cleaned_ecommerce_data_final.csv\", index=False)\n",
    "\n",
    "### 7. Print summary ###\n",
    "print(f\"Number of columns: {df.shape[1]}\")\n",
    "print(f\"Number of rows: {df.shape[0]}\")\n",
    "print(df.head())  # Display sample cleaned data\n"
   ]
  },
  {
   "cell_type": "code",
   "execution_count": 14,
   "metadata": {},
   "outputs": [
    {
     "data": {
      "text/html": [
       "<div>\n",
       "<style scoped>\n",
       "    .dataframe tbody tr th:only-of-type {\n",
       "        vertical-align: middle;\n",
       "    }\n",
       "\n",
       "    .dataframe tbody tr th {\n",
       "        vertical-align: top;\n",
       "    }\n",
       "\n",
       "    .dataframe thead th {\n",
       "        text-align: right;\n",
       "    }\n",
       "</style>\n",
       "<table border=\"1\" class=\"dataframe\">\n",
       "  <thead>\n",
       "    <tr style=\"text-align: right;\">\n",
       "      <th></th>\n",
       "      <th>product_id</th>\n",
       "      <th>product_name</th>\n",
       "      <th>category</th>\n",
       "      <th>about_product</th>\n",
       "      <th>discounted_price</th>\n",
       "      <th>actual_price</th>\n",
       "      <th>rating</th>\n",
       "      <th>rating_count</th>\n",
       "      <th>img_link</th>\n",
       "      <th>product_link</th>\n",
       "    </tr>\n",
       "  </thead>\n",
       "  <tbody>\n",
       "    <tr>\n",
       "      <th>0</th>\n",
       "      <td>B07JW9H4J1</td>\n",
       "      <td>Wayona Nylon Braided USB to Lightning Fast Cha...</td>\n",
       "      <td>Computers&amp;Accessories|Accessories&amp;Peripherals|...</td>\n",
       "      <td>high compatibility  compatible with iphone 12 ...</td>\n",
       "      <td>399.0</td>\n",
       "      <td>1099.0</td>\n",
       "      <td>4.2</td>\n",
       "      <td>24269.0</td>\n",
       "      <td>https://m.media-amazon.com/images/W/WEBP_40237...</td>\n",
       "      <td>https://www.amazon.in/Wayona-Braided-WN3LG1-Sy...</td>\n",
       "    </tr>\n",
       "    <tr>\n",
       "      <th>1</th>\n",
       "      <td>B098NS6PVG</td>\n",
       "      <td>Ambrane Unbreakable 60W / 3A Fast Charging 1.5...</td>\n",
       "      <td>Computers&amp;Accessories|Accessories&amp;Peripherals|...</td>\n",
       "      <td>compatible with all type c enabled devices be ...</td>\n",
       "      <td>199.0</td>\n",
       "      <td>349.0</td>\n",
       "      <td>4.0</td>\n",
       "      <td>43994.0</td>\n",
       "      <td>https://m.media-amazon.com/images/W/WEBP_40237...</td>\n",
       "      <td>https://www.amazon.in/Ambrane-Unbreakable-Char...</td>\n",
       "    </tr>\n",
       "    <tr>\n",
       "      <th>2</th>\n",
       "      <td>B096MSW6CT</td>\n",
       "      <td>Sounce Fast Phone Charging Cable &amp; Data Sync U...</td>\n",
       "      <td>Computers&amp;Accessories|Accessories&amp;Peripherals|...</td>\n",
       "      <td>fast charger data syncwith builtin safety proc...</td>\n",
       "      <td>199.0</td>\n",
       "      <td>1899.0</td>\n",
       "      <td>3.9</td>\n",
       "      <td>7928.0</td>\n",
       "      <td>https://m.media-amazon.com/images/W/WEBP_40237...</td>\n",
       "      <td>https://www.amazon.in/Sounce-iPhone-Charging-C...</td>\n",
       "    </tr>\n",
       "    <tr>\n",
       "      <th>3</th>\n",
       "      <td>B08HDJ86NZ</td>\n",
       "      <td>boAt Deuce USB 300 2 in 1 Type-C &amp; Micro USB S...</td>\n",
       "      <td>Computers&amp;Accessories|Accessories&amp;Peripherals|...</td>\n",
       "      <td>the boat deuce usb 300 2 in 1 cable is compati...</td>\n",
       "      <td>329.0</td>\n",
       "      <td>699.0</td>\n",
       "      <td>4.2</td>\n",
       "      <td>94363.0</td>\n",
       "      <td>https://m.media-amazon.com/images/I/41V5FtEWPk...</td>\n",
       "      <td>https://www.amazon.in/Deuce-300-Resistant-Tang...</td>\n",
       "    </tr>\n",
       "    <tr>\n",
       "      <th>4</th>\n",
       "      <td>B08CF3B7N1</td>\n",
       "      <td>Portronics Konnect L 1.2M Fast Charging 3A 8 P...</td>\n",
       "      <td>Computers&amp;Accessories|Accessories&amp;Peripherals|...</td>\n",
       "      <td>charge  sync function this cable comes with ch...</td>\n",
       "      <td>154.0</td>\n",
       "      <td>399.0</td>\n",
       "      <td>4.2</td>\n",
       "      <td>16905.0</td>\n",
       "      <td>https://m.media-amazon.com/images/W/WEBP_40237...</td>\n",
       "      <td>https://www.amazon.in/Portronics-Konnect-POR-1...</td>\n",
       "    </tr>\n",
       "  </tbody>\n",
       "</table>\n",
       "</div>"
      ],
      "text/plain": [
       "   product_id                                       product_name  \\\n",
       "0  B07JW9H4J1  Wayona Nylon Braided USB to Lightning Fast Cha...   \n",
       "1  B098NS6PVG  Ambrane Unbreakable 60W / 3A Fast Charging 1.5...   \n",
       "2  B096MSW6CT  Sounce Fast Phone Charging Cable & Data Sync U...   \n",
       "3  B08HDJ86NZ  boAt Deuce USB 300 2 in 1 Type-C & Micro USB S...   \n",
       "4  B08CF3B7N1  Portronics Konnect L 1.2M Fast Charging 3A 8 P...   \n",
       "\n",
       "                                            category  \\\n",
       "0  Computers&Accessories|Accessories&Peripherals|...   \n",
       "1  Computers&Accessories|Accessories&Peripherals|...   \n",
       "2  Computers&Accessories|Accessories&Peripherals|...   \n",
       "3  Computers&Accessories|Accessories&Peripherals|...   \n",
       "4  Computers&Accessories|Accessories&Peripherals|...   \n",
       "\n",
       "                                       about_product  discounted_price  \\\n",
       "0  high compatibility  compatible with iphone 12 ...             399.0   \n",
       "1  compatible with all type c enabled devices be ...             199.0   \n",
       "2  fast charger data syncwith builtin safety proc...             199.0   \n",
       "3  the boat deuce usb 300 2 in 1 cable is compati...             329.0   \n",
       "4  charge  sync function this cable comes with ch...             154.0   \n",
       "\n",
       "   actual_price  rating  rating_count  \\\n",
       "0        1099.0     4.2       24269.0   \n",
       "1         349.0     4.0       43994.0   \n",
       "2        1899.0     3.9        7928.0   \n",
       "3         699.0     4.2       94363.0   \n",
       "4         399.0     4.2       16905.0   \n",
       "\n",
       "                                            img_link  \\\n",
       "0  https://m.media-amazon.com/images/W/WEBP_40237...   \n",
       "1  https://m.media-amazon.com/images/W/WEBP_40237...   \n",
       "2  https://m.media-amazon.com/images/W/WEBP_40237...   \n",
       "3  https://m.media-amazon.com/images/I/41V5FtEWPk...   \n",
       "4  https://m.media-amazon.com/images/W/WEBP_40237...   \n",
       "\n",
       "                                        product_link  \n",
       "0  https://www.amazon.in/Wayona-Braided-WN3LG1-Sy...  \n",
       "1  https://www.amazon.in/Ambrane-Unbreakable-Char...  \n",
       "2  https://www.amazon.in/Sounce-iPhone-Charging-C...  \n",
       "3  https://www.amazon.in/Deuce-300-Resistant-Tang...  \n",
       "4  https://www.amazon.in/Portronics-Konnect-POR-1...  "
      ]
     },
     "execution_count": 14,
     "metadata": {},
     "output_type": "execute_result"
    }
   ],
   "source": [
    "import pandas as pd\n",
    "\n",
    "newdata = pd.read_csv(\"cleaned_ecommerce_data_final.csv\")\n",
    "\n",
    "newdata.head()"
   ]
  },
  {
   "cell_type": "code",
   "execution_count": 15,
   "metadata": {},
   "outputs": [
    {
     "name": "stderr",
     "output_type": "stream",
     "text": [
      "c:\\Users\\asus\\anaconda3\\envs\\GPU-cuda\\lib\\site-packages\\tqdm\\auto.py:21: TqdmWarning: IProgress not found. Please update jupyter and ipywidgets. See https://ipywidgets.readthedocs.io/en/stable/user_install.html\n",
      "  from .autonotebook import tqdm as notebook_tqdm\n"
     ]
    },
    {
     "name": "stdout",
     "output_type": "stream",
     "text": [
      "Embedding shape: torch.Size([1465, 384])\n"
     ]
    }
   ],
   "source": [
    "import pandas as pd\n",
    "from sentence_transformers import SentenceTransformer\n",
    "from sklearn.metrics.pairwise import cosine_similarity\n",
    "\n",
    "# Load cleaned dataset\n",
    "df = pd.read_csv(\"cleaned_ecommerce_data_final.csv\")\n",
    "\n",
    "# Combine text columns for better representation\n",
    "df[\"combined_text\"] = df[\"product_name\"] + \" \" + df[\"category\"] + \" \" + df[\"about_product\"]\n",
    "\n",
    "# Convert to list\n",
    "product_texts = df[\"combined_text\"].astype(str).tolist()\n",
    "\n",
    "# Load SBERT model\n",
    "model = SentenceTransformer(\"all-MiniLM-L6-v2\")  # Fast & effective\n",
    "\n",
    "# Convert combined text into embeddings\n",
    "embeddings = model.encode(product_texts, convert_to_tensor=True)\n",
    "\n",
    "print(\"Embedding shape:\", embeddings.shape)  # Should be (num_products, 384)\n"
   ]
  },
  {
   "cell_type": "code",
   "execution_count": 16,
   "metadata": {},
   "outputs": [
    {
     "name": "stdout",
     "output_type": "stream",
     "text": [
      "\n",
      "🔍 **Recommendations for: Portronics Konnect L POR-1081 Fast Charging 3A Type-C Cable 1.2Meter with Charge & Sync Function for All Type-C Devices (Grey)** 🔍\n",
      "\n",
      "✅ Portronics Konnect L POR-1081 Fast Charging 3A Type-C Cable 1.2Meter with Charge & Sync Function for All Type-C Devices (Grey) (Similarity: 1.00)\n",
      "✅ Portronics Konnect L POR-1403 Fast Charging 3A Type-C Cable 1.2 Meter with Charge & Sync Function for All Type-C Devices (White) (Similarity: 0.91)\n",
      "✅ Portronics Konnect L POR-1081 Fast Charging 3A Type-C Cable 1.2Meter with Charge & Sync Function for All Type-C Devices (Grey) (Similarity: 0.91)\n",
      "✅ Portronics Konnect L 1.2Mtr, Fast Charging 3A Micro USB Cable with Charge & Sync Function (Grey) (Similarity: 0.86)\n",
      "✅ Portronics Konnect L 1.2Mtr, Fast Charging 3A Micro USB Cable with Charge & Sync Function (Grey) (Similarity: 0.86)\n"
     ]
    }
   ],
   "source": [
    "import torch\n",
    "\n",
    "# Compute similarity matrix\n",
    "cosine_sim = cosine_similarity(embeddings.cpu().numpy())\n",
    "\n",
    "# Function to recommend similar products\n",
    "def recommend_products(product_index, top_n=5):\n",
    "    scores = list(enumerate(cosine_sim[product_index]))\n",
    "    scores = sorted(scores, key=lambda x: x[1], reverse=True)  # Sort by similarity\n",
    "    top_products = scores[1:top_n+1]  # Exclude itself\n",
    "\n",
    "    print(f\"\\n🔍 **Recommendations for: {df.iloc[product_index]['product_name']}** 🔍\\n\")\n",
    "    for idx, score in top_products:\n",
    "        print(f\"✅ {df.iloc[idx]['product_name']} (Similarity: {score:.2f})\")\n",
    "\n",
    "# Example: Recommend similar products for product at index 10\n",
    "recommend_products(10)\n"
   ]
  },
  {
   "cell_type": "code",
   "execution_count": 17,
   "metadata": {},
   "outputs": [
    {
     "name": "stdout",
     "output_type": "stream",
     "text": [
      "✅ Short name column added and CSV updated!\n"
     ]
    }
   ],
   "source": [
    "import pandas as pd\n",
    "\n",
    "# Load the cleaned CSV\n",
    "df = pd.read_csv(\"cleaned_ecommerce_data_final.csv\")\n",
    "\n",
    "# Create a short product name (first 5 words)\n",
    "df[\"short_name\"] = df[\"product_name\"].apply(lambda x: ' '.join(x.split()[:5]) + \"...\")\n",
    "\n",
    "# Save the updated CSV\n",
    "df.to_csv(\"cleaned_ecommerce_data_final.csv\", index=False)\n",
    "\n",
    "print(\"✅ Short name column added and CSV updated!\")\n"
   ]
  }
 ],
 "metadata": {
  "kernelspec": {
   "display_name": "GPU-cuda",
   "language": "python",
   "name": "python3"
  },
  "language_info": {
   "codemirror_mode": {
    "name": "ipython",
    "version": 3
   },
   "file_extension": ".py",
   "mimetype": "text/x-python",
   "name": "python",
   "nbconvert_exporter": "python",
   "pygments_lexer": "ipython3",
   "version": "3.9.21"
  }
 },
 "nbformat": 4,
 "nbformat_minor": 2
}
